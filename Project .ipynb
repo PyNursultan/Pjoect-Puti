{
 "cells": [
  {
   "cell_type": "code",
   "execution_count": 4,
   "id": "ca38871b-a4b1-48aa-9645-309025e36cd7",
   "metadata": {},
   "outputs": [
    {
     "name": "stdout",
     "output_type": "stream",
     "text": [
      "\n",
      "Здравствуйте Искендер Агай и остальные!\n",
      "\n",
      "1. Найти кратчайший маршрут\n",
      "2. Завершить\n"
     ]
    },
    {
     "name": "stdin",
     "output_type": "stream",
     "text": [
      "Ваш выбор:  1\n",
      "Ваш город/область:  Бишкек\n",
      "Куда вам нужно (город/область):  Ноокат\n"
     ]
    },
    {
     "name": "stdout",
     "output_type": "stream",
     "text": [
      "Маршрут: Бишкек -> Кант -> Ноокат\n",
      "\n",
      "Здравствуйте Искендер Агай и остальные!\n",
      "\n",
      "1. Найти кратчайший маршрут\n",
      "2. Завершить\n"
     ]
    },
    {
     "name": "stdin",
     "output_type": "stream",
     "text": [
      "Ваш выбор:  2\n"
     ]
    },
    {
     "name": "stdout",
     "output_type": "stream",
     "text": [
      "До свидания Искендер Агай и остальные!\n"
     ]
    }
   ],
   "source": [
    "from collections import deque\n",
    "\n",
    "class Project:\n",
    "    def __init__(self):\n",
    "        self.graph = {\n",
    "            \"Бишкек\": set(),\n",
    "            \"Ош\": set(),\n",
    "            \"Жалал-Абад\": set(),\n",
    "            \"Каракол\": set(),\n",
    "            \"Талас\": set(),\n",
    "            \"Нарын\": set(),\n",
    "            \"Баткен\": set(),\n",
    "            \"Чолпон-Ата\": set(),\n",
    "            \"Кант\": set(),\n",
    "            \"Ноокат\": set()\n",
    "        }\n",
    "\n",
    "    def add_path(self, city1, city2):\n",
    "        self.graph[city1].add(city2)\n",
    "        self.graph[city2].add(city1)\n",
    "\n",
    "    def bfs(self, start, end):\n",
    "        if start not in self.graph or end not in self.graph: # я чекаю правильные ли типо города или нет\n",
    "            return None\n",
    "\n",
    "        queue = deque([(start, [start])]) # вот тут сам город и список пути\n",
    "        visited = set()\n",
    "\n",
    "        while queue:\n",
    "            first_item = queue.popleft()\n",
    "            current_city = first_item[0]\n",
    "            path = first_item[1] # тут извлекаем из очереди сам город и его путь\n",
    "            \n",
    "            if current_city == end:\n",
    "                return path # если конечный город найден, принтую путь\n",
    "\n",
    "            visited.add(current_city) # здесь тупо добавляю каждый расматриваемый город\n",
    "            for neighbor in self.graph[current_city]: # тут уже сам цикл, потому что мы проверяем именно соседов у городов\n",
    "                if neighbor not in visited: # тут чекаю, если сосед не в визитке, то мы создаем новый массив и копируем путь\n",
    "                    new_path = path.copy()\n",
    "                    new_path.append(neighbor) # В новый массив закидываем соседа тем самым получая новый путь\n",
    "                    queue.append((neighbor, new_path)) # тут я добавляю кортежем данные, сосед текущего города и путь который мы прошли до этого города\n",
    "        return None\n",
    "\n",
    "    def run(self):\n",
    "\n",
    "        paths = [\n",
    "            (\"Бишкек\", \"Ош\"),\n",
    "            (\"Бишкек\", \"Жалал-Абад\"),\n",
    "            (\"Бишкек\", \"Кант\"),\n",
    "            (\"Жалал-Абад\", \"Каракол\"),\n",
    "            (\"Каракол\", \"Талас\"),\n",
    "            (\"Талас\", \"Нарын\"),\n",
    "            (\"Нарын\", \"Баткен\"),\n",
    "            (\"Чолпон-Ата\", \"Бишкек\"),\n",
    "            (\"Чолпон-Ата\", \"Кант\"),\n",
    "            (\"Кант\", \"Жалал-Абад\"),\n",
    "            (\"Кант\", \"Ноокат\"),\n",
    "            (\"Ноокат\", \"Каракол\"),\n",
    "            (\"Кант\", \"Баткен\"),\n",
    "            (\"Ош\", \"Нарын\"),\n",
    "            (\"Ноокат\", \"Талас\")\n",
    "        ]\n",
    "\n",
    "       \n",
    "        for city1, city2 in paths:\n",
    "            self.add_path(city1, city2)\n",
    "\n",
    "        while True:\n",
    "            print('\\nЗдравствуйте Искендер Агай и остальные!')\n",
    "            print('\\n1. Найти кратчайший маршрут\\n2. Завершить')\n",
    "            choice = input('Ваш выбор: ')\n",
    "\n",
    "            if choice == \"1\":\n",
    "                start = input(\"Ваш город/область: \")\n",
    "                end = input(\"Куда вам нужно (город/область): \")\n",
    "                path = self.bfs(start, end)\n",
    "                if path:\n",
    "                    print(f\"Маршрут: {' -> '.join(path)}\")\n",
    "                else:\n",
    "                    print(\"Маршрут не найден.\")\n",
    "            elif choice == \"2\":\n",
    "                print(\"До свидания Искендер Агай и остальные!\")\n",
    "                break\n",
    "            else:\n",
    "                print(\"Неверный выбор. Попробуйте снова.\")\n",
    "\n",
    "work = Project()\n",
    "work.run()"
   ]
  },
  {
   "cell_type": "code",
   "execution_count": 14,
   "id": "d8dbd428-3f16-4ecd-9a7f-638874ee572c",
   "metadata": {
    "jp-MarkdownHeadingCollapsed": true
   },
   "outputs": [],
   "source": []
  },
  {
   "cell_type": "code",
   "execution_count": 2,
   "id": "7076e0d3-daa2-4249-802c-8e63aac5c9c3",
   "metadata": {},
   "outputs": [
    {
     "name": "stdout",
     "output_type": "stream",
     "text": [
      "\n",
      "Здравствуйте Искендер Агай и остальные!\n",
      "\n",
      "1. Найти кратчайший маршрут\n",
      "2. Добавить новый город\n",
      "3. Добавить новый путь\n",
      "4. Завершить\n"
     ]
    },
    {
     "name": "stdin",
     "output_type": "stream",
     "text": [
      "Ваш выбор:  2\n",
      "Введите название нового города:  Бишкек\n"
     ]
    },
    {
     "name": "stdout",
     "output_type": "stream",
     "text": [
      "Город Бишкек уже существует.\n",
      "\n",
      "Здравствуйте Искендер Агай и остальные!\n",
      "\n",
      "1. Найти кратчайший маршрут\n",
      "2. Добавить новый город\n",
      "3. Добавить новый путь\n",
      "4. Завершить\n"
     ]
    },
    {
     "name": "stdin",
     "output_type": "stream",
     "text": [
      "Ваш выбор:  2\n",
      "Введите название нового города:  Москва\n"
     ]
    },
    {
     "name": "stdout",
     "output_type": "stream",
     "text": [
      "Город Москва успешно добавлен!\n",
      "\n",
      "Здравствуйте Искендер Агай и остальные!\n",
      "\n",
      "1. Найти кратчайший маршрут\n",
      "2. Добавить новый город\n",
      "3. Добавить новый путь\n",
      "4. Завершить\n"
     ]
    },
    {
     "name": "stdin",
     "output_type": "stream",
     "text": [
      "Ваш выбор:  3\n",
      "Введите первый город:  Бишкек\n",
      "Введите второй город:  Москва\n"
     ]
    },
    {
     "name": "stdout",
     "output_type": "stream",
     "text": [
      "Путь между Бишкек и Москва успешно добавлен!\n",
      "\n",
      "Здравствуйте Искендер Агай и остальные!\n",
      "\n",
      "1. Найти кратчайший маршрут\n",
      "2. Добавить новый город\n",
      "3. Добавить новый путь\n",
      "4. Завершить\n"
     ]
    },
    {
     "name": "stdin",
     "output_type": "stream",
     "text": [
      "Ваш выбор:  1\n"
     ]
    },
    {
     "name": "stdout",
     "output_type": "stream",
     "text": [
      "Доступные города: Бишкек, Ош, Жалал-Абад, Каракол, Талас, Нарын, Баткен, Чолпон-Ата, Кант, Ноокат, Москва\n"
     ]
    },
    {
     "name": "stdin",
     "output_type": "stream",
     "text": [
      "Ваш город/область:  Москва\n",
      "Куда вам нужно (город/область):  Ош\n"
     ]
    },
    {
     "name": "stdout",
     "output_type": "stream",
     "text": [
      "Маршрут: Москва -> Бишкек -> Ош\n",
      "\n",
      "Здравствуйте Искендер Агай и остальные!\n",
      "\n",
      "1. Найти кратчайший маршрут\n",
      "2. Добавить новый город\n",
      "3. Добавить новый путь\n",
      "4. Завершить\n"
     ]
    },
    {
     "name": "stdin",
     "output_type": "stream",
     "text": [
      "Ваш выбор:  4\n"
     ]
    },
    {
     "name": "stdout",
     "output_type": "stream",
     "text": [
      "До свидания Искендер Агай и остальные!\n"
     ]
    }
   ],
   "source": [
    "from collections import deque\n",
    "\n",
    "class Project:\n",
    "    def __init__(self):\n",
    "        self.graph = {\n",
    "            \"Бишкек\": set(),\n",
    "            \"Ош\": set(),\n",
    "            \"Жалал-Абад\": set(),\n",
    "            \"Каракол\": set(),\n",
    "            \"Талас\": set(),\n",
    "            \"Нарын\": set(),\n",
    "            \"Баткен\": set(),\n",
    "            \"Чолпон-Ата\": set(),\n",
    "            \"Кант\": set(),\n",
    "            \"Ноокат\": set()\n",
    "        }\n",
    "\n",
    "    def add_path(self, city1, city2):\n",
    "        self.graph[city1].add(city2)\n",
    "        self.graph[city2].add(city1)\n",
    "\n",
    "    def add_city(self, city):\n",
    "        if city not in self.graph:\n",
    "            self.graph[city] = set()\n",
    "            print(f\"Город {city} успешно добавлен!\")\n",
    "        else:\n",
    "            print(f\"Город {city} уже существует.\")\n",
    "\n",
    "\n",
    "    def bfs(self, start, end):\n",
    "        if start not in self.graph or end not in self.graph: # я чекаю правильные ли типо города или нет\n",
    "            return None\n",
    "\n",
    "        queue = deque([(start, [start])]) # вот тут сам город и список пути\n",
    "        visited = set()\n",
    "\n",
    "        while queue:\n",
    "            first_item = queue.popleft()\n",
    "            current_city = first_item[0]\n",
    "            path = first_item[1] # тут извлекаем из очереди сам город и его путь\n",
    "            \n",
    "            if current_city == end:\n",
    "                return path # если конечный город найден, принтую путь\n",
    "\n",
    "            visited.add(current_city) # здесь тупо добавляю каждый расматриваемый город\n",
    "            for neighbor in self.graph[current_city]: # тут уже сам цикл, потому что мы проверяем именно соседов у городов\n",
    "                if neighbor not in visited: # тут чекаю, если сосед не в визитке, то мы создаем новый массив и копируем путь\n",
    "                    new_path = path.copy()\n",
    "                    new_path.append(neighbor) # В новый массив закидываем соседа тем самым получая новый путь\n",
    "                    queue.append((neighbor, new_path)) # тут я добавляю кортежем данные, сосед текущего города и путь который мы прошли до этого города\n",
    "        return None\n",
    "\n",
    "    def run(self):\n",
    "\n",
    "        paths = [\n",
    "            (\"Бишкек\", \"Ош\"),\n",
    "            (\"Бишкек\", \"Жалал-Абад\"),\n",
    "            (\"Бишкек\", \"Кант\"),\n",
    "            (\"Жалал-Абад\", \"Каракол\"),\n",
    "            (\"Каракол\", \"Талас\"),\n",
    "            (\"Талас\", \"Нарын\"),\n",
    "            (\"Нарын\", \"Баткен\"),\n",
    "            (\"Чолпон-Ата\", \"Бишкек\"),\n",
    "            (\"Чолпон-Ата\", \"Кант\"),\n",
    "            (\"Кант\", \"Жалал-Абад\"),\n",
    "            (\"Кант\", \"Ноокат\"),\n",
    "            (\"Ноокат\", \"Каракол\"),\n",
    "            (\"Кант\", \"Баткен\"),\n",
    "            (\"Ош\", \"Нарын\"),\n",
    "            (\"Ноокат\", \"Талас\")\n",
    "        ]\n",
    "\n",
    "       \n",
    "        for city1, city2 in paths:\n",
    "            self.add_path(city1, city2)\n",
    "\n",
    "        while True:\n",
    "            print('\\nЗдравствуйте Искендер Агай и остальные!')\n",
    "            print('\\n1. Найти кратчайший маршрут\\n2. Добавить новый город\\n3. Добавить новый путь\\n4. Завершить')\n",
    "            choice = input('Ваш выбор: ')\n",
    "\n",
    "            if choice == \"1\":\n",
    "                print(f\"Доступные города: {', '.join(self.graph.keys())}\")\n",
    "                start = input(\"Ваш город/область: \")\n",
    "                end = input(\"Куда вам нужно (город/область): \")\n",
    "                path = self.bfs(start, end)\n",
    "                if path:\n",
    "                    print(f\"Маршрут: {' -> '.join(path)}\")\n",
    "                else:\n",
    "                    print(\"Маршрут не найден.\")\n",
    "            elif choice == \"2\":\n",
    "                city = input(\"Введите название нового города: \")\n",
    "                self.add_city(city)\n",
    "            elif choice == \"3\":\n",
    "                city1 = input(\"Введите первый город: \")\n",
    "                city2 = input(\"Введите второй город: \")\n",
    "                self.add_path(city1, city2)\n",
    "                print(f\"Путь между {city1} и {city2} успешно добавлен!\")\n",
    "            elif choice == \"4\":\n",
    "                print(\"До свидания Искендер Агай и остальные!\")\n",
    "                break\n",
    "            else:\n",
    "                print(\"Неверный выбор. Попробуйте снова.\")\n",
    "\n",
    "work = Project()\n",
    "work.run()"
   ]
  },
  {
   "cell_type": "code",
   "execution_count": null,
   "id": "f08ce226-f863-4d0c-8ff9-0137419b5da4",
   "metadata": {},
   "outputs": [],
   "source": []
  }
 ],
 "metadata": {
  "kernelspec": {
   "display_name": "Python 3 (ipykernel)",
   "language": "python",
   "name": "python3"
  },
  "language_info": {
   "codemirror_mode": {
    "name": "ipython",
    "version": 3
   },
   "file_extension": ".py",
   "mimetype": "text/x-python",
   "name": "python",
   "nbconvert_exporter": "python",
   "pygments_lexer": "ipython3",
   "version": "3.11.7"
  }
 },
 "nbformat": 4,
 "nbformat_minor": 5
}
